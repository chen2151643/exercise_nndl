{
 "cells": [
  {
   "cell_type": "markdown",
   "metadata": {},
   "source": [
    "## 准备数据"
   ]
  },
  {
   "cell_type": "code",
   "execution_count": 1,
   "metadata": {},
   "outputs": [
    {
     "name": "stdout",
     "output_type": "stream",
     "text": [
      "WARNING:tensorflow:From C:\\Users\\17767\\.conda\\envs\\tf_py39\\lib\\site-packages\\keras\\src\\losses.py:2976: The name tf.losses.sparse_softmax_cross_entropy is deprecated. Please use tf.compat.v1.losses.sparse_softmax_cross_entropy instead.\n",
      "\n"
     ]
    }
   ],
   "source": [
    "import os\n",
    "import numpy as np\n",
    "import tensorflow as tf\n",
    "from tensorflow import keras\n",
    "from tensorflow.keras import layers, optimizers, datasets\n",
    "\n",
    "os.environ['TF_CPP_MIN_LOG_LEVEL'] = '2'  # or any {'0', '1', '2'}\n",
    "\n",
    "def mnist_dataset():\n",
    "    (x, y), (x_test, y_test) = datasets.mnist.load_data()\n",
    "    #normalize\n",
    "    x = x/255.0\n",
    "    x_test = x_test/255.0\n",
    "    return (x, y), (x_test, y_test)"
   ]
  },
  {
   "cell_type": "code",
   "execution_count": 2,
   "metadata": {},
   "outputs": [
    {
     "name": "stdout",
     "output_type": "stream",
     "text": [
      "[(1, 'a'), (2, 'b'), (3, 'c'), (4, 'd')]\n"
     ]
    }
   ],
   "source": [
    "print(list(zip([1, 2, 3, 4], ['a', 'b', 'c', 'd'])))"
   ]
  },
  {
   "cell_type": "markdown",
   "metadata": {},
   "source": [
    "## 建立模型"
   ]
  },
  {
   "cell_type": "code",
   "execution_count": 3,
   "metadata": {},
   "outputs": [],
   "source": [
    "class myModel:\n",
    "    def __init__(self):\n",
    "        ####################\n",
    "        '''声明模型对应的参数'''\n",
    "        ####################\n",
    "        self.W1 = tf.Variable(tf.random.normal([784, 128]), name='W1')\n",
    "        self.b1 = tf.Variable(tf.zeros([128]), name='b1')\n",
    "        self.W2 = tf.Variable(tf.random.normal([128, 10]), name='W2')\n",
    "        self.b2 = tf.Variable(tf.zeros([10]), name='b2')\n",
    "    def __call__(self, x):\n",
    "        ####################\n",
    "        '''实现模型函数体，返回未归一化的logits'''\n",
    "        ####################\n",
    "        x = tf.reshape(x, [-1, 784])\n",
    "        h1 = tf.nn.relu(tf.matmul(x, self.W1) + self.b1)\n",
    "        logits = tf.matmul(h1, self.W2) + self.b2\n",
    "        return logits\n",
    "        \n",
    "model = myModel()\n",
    "\n",
    "optimizer = optimizers.Adam()"
   ]
  },
  {
   "cell_type": "markdown",
   "metadata": {},
   "source": [
    "## 计算 loss"
   ]
  },
  {
   "cell_type": "code",
   "execution_count": 4,
   "metadata": {},
   "outputs": [],
   "source": [
    "@tf.function\n",
    "def compute_loss(logits, labels):\n",
    "    return tf.reduce_mean(\n",
    "        tf.nn.sparse_softmax_cross_entropy_with_logits(\n",
    "            logits=logits, labels=labels))\n",
    "\n",
    "@tf.function\n",
    "def compute_accuracy(logits, labels):\n",
    "    predictions = tf.argmax(logits, axis=1)\n",
    "    return tf.reduce_mean(tf.cast(tf.equal(predictions, labels), tf.float32))\n",
    "\n",
    "@tf.function\n",
    "def train_one_step(model, optimizer, x, y):\n",
    "    with tf.GradientTape() as tape:\n",
    "        logits = model(x)\n",
    "        loss = compute_loss(logits, y)\n",
    "\n",
    "    # compute gradient\n",
    "    trainable_vars = [model.W1, model.W2, model.b1, model.b2]\n",
    "    grads = tape.gradient(loss, trainable_vars)\n",
    "    for g, v in zip(grads, trainable_vars):\n",
    "        v.assign_sub(0.01*g)\n",
    "\n",
    "    accuracy = compute_accuracy(logits, y)\n",
    "\n",
    "    # loss and accuracy is scalar tensor\n",
    "    return loss, accuracy\n",
    "\n",
    "@tf.function\n",
    "def test(model, x, y):\n",
    "    logits = model(x)\n",
    "    loss = compute_loss(logits, y)\n",
    "    accuracy = compute_accuracy(logits, y)\n",
    "    return loss, accuracy"
   ]
  },
  {
   "cell_type": "markdown",
   "metadata": {},
   "source": [
    "## 实际训练"
   ]
  },
  {
   "cell_type": "code",
   "execution_count": 10,
   "metadata": {},
   "outputs": [
    {
     "name": "stdout",
     "output_type": "stream",
     "text": [
      "epoch 0 : loss 13.599497 ; accuracy 0.61083335\n",
      "epoch 1 : loss 13.554316 ; accuracy 0.6117\n",
      "epoch 2 : loss 13.509531 ; accuracy 0.61261666\n",
      "epoch 3 : loss 13.4651375 ; accuracy 0.61336666\n",
      "epoch 4 : loss 13.421129 ; accuracy 0.61405\n",
      "epoch 5 : loss 13.377498 ; accuracy 0.61466664\n",
      "epoch 6 : loss 13.334244 ; accuracy 0.61548334\n",
      "epoch 7 : loss 13.291368 ; accuracy 0.61635\n",
      "epoch 8 : loss 13.248864 ; accuracy 0.6170667\n",
      "epoch 9 : loss 13.2067375 ; accuracy 0.61785\n",
      "epoch 10 : loss 13.164965 ; accuracy 0.61861664\n",
      "epoch 11 : loss 13.123551 ; accuracy 0.61931664\n",
      "epoch 12 : loss 13.08249 ; accuracy 0.62025\n",
      "epoch 13 : loss 13.041777 ; accuracy 0.62115\n",
      "epoch 14 : loss 13.001402 ; accuracy 0.62186664\n",
      "epoch 15 : loss 12.961368 ; accuracy 0.62238336\n",
      "epoch 16 : loss 12.921668 ; accuracy 0.62298334\n",
      "epoch 17 : loss 12.8823 ; accuracy 0.62365\n",
      "epoch 18 : loss 12.843252 ; accuracy 0.6244\n",
      "epoch 19 : loss 12.804519 ; accuracy 0.6253833\n",
      "epoch 20 : loss 12.766102 ; accuracy 0.62585\n",
      "epoch 21 : loss 12.727996 ; accuracy 0.62655\n",
      "epoch 22 : loss 12.690198 ; accuracy 0.6275\n",
      "epoch 23 : loss 12.6527 ; accuracy 0.62806666\n",
      "epoch 24 : loss 12.615507 ; accuracy 0.62881666\n",
      "epoch 25 : loss 12.5786085 ; accuracy 0.62956667\n",
      "epoch 26 : loss 12.542002 ; accuracy 0.63051665\n",
      "epoch 27 : loss 12.505686 ; accuracy 0.63131666\n",
      "epoch 28 : loss 12.469656 ; accuracy 0.63193333\n",
      "epoch 29 : loss 12.433904 ; accuracy 0.63265\n",
      "epoch 30 : loss 12.398428 ; accuracy 0.63318336\n",
      "epoch 31 : loss 12.363228 ; accuracy 0.63383335\n",
      "epoch 32 : loss 12.328303 ; accuracy 0.6344\n",
      "epoch 33 : loss 12.29365 ; accuracy 0.6350667\n",
      "epoch 34 : loss 12.259269 ; accuracy 0.6357167\n",
      "epoch 35 : loss 12.22515 ; accuracy 0.63631666\n",
      "epoch 36 : loss 12.19129 ; accuracy 0.63708335\n",
      "epoch 37 : loss 12.157682 ; accuracy 0.6375667\n",
      "epoch 38 : loss 12.124316 ; accuracy 0.6382667\n",
      "epoch 39 : loss 12.0912 ; accuracy 0.6389667\n",
      "epoch 40 : loss 12.058321 ; accuracy 0.63961667\n",
      "epoch 41 : loss 12.025677 ; accuracy 0.6400667\n",
      "epoch 42 : loss 11.993265 ; accuracy 0.6407167\n",
      "epoch 43 : loss 11.961092 ; accuracy 0.6411833\n",
      "epoch 44 : loss 11.929148 ; accuracy 0.64175\n",
      "epoch 45 : loss 11.8974285 ; accuracy 0.6422833\n",
      "epoch 46 : loss 11.865932 ; accuracy 0.64285\n",
      "epoch 47 : loss 11.834663 ; accuracy 0.6434\n",
      "epoch 48 : loss 11.803613 ; accuracy 0.64393336\n",
      "epoch 49 : loss 11.772787 ; accuracy 0.64463335\n",
      "test loss 11.268639 ; accuracy 0.6515\n"
     ]
    }
   ],
   "source": [
    "train_data, test_data = mnist_dataset()\n",
    "# print(train_data[0].shape)\n",
    "# for i in range(20):\n",
    "#     print(train_data[1][i])\n",
    "    \n",
    "for epoch in range(50):\n",
    "    loss, accuracy = train_one_step(model, optimizer, \n",
    "                                    tf.constant(train_data[0], dtype=tf.float32), \n",
    "                                    tf.constant(train_data[1], dtype=tf.int64))\n",
    "    print('epoch', epoch, ': loss', loss.numpy(), '; accuracy', accuracy.numpy())\n",
    "loss, accuracy = test(model, \n",
    "                      tf.constant(test_data[0], dtype=tf.float32), \n",
    "                      tf.constant(test_data[1], dtype=tf.int64))\n",
    "\n",
    "print('test loss', loss.numpy(), '; accuracy', accuracy.numpy())"
   ]
  },
  {
   "cell_type": "code",
   "execution_count": null,
   "metadata": {},
   "outputs": [],
   "source": []
  }
 ],
 "metadata": {
  "kernelspec": {
   "display_name": "Python [conda env:.conda-tf_py39]",
   "language": "python",
   "name": "conda-env-.conda-tf_py39-py"
  },
  "language_info": {
   "codemirror_mode": {
    "name": "ipython",
    "version": 3
   },
   "file_extension": ".py",
   "mimetype": "text/x-python",
   "name": "python",
   "nbconvert_exporter": "python",
   "pygments_lexer": "ipython3",
   "version": "3.9.18"
  }
 },
 "nbformat": 4,
 "nbformat_minor": 2
}
